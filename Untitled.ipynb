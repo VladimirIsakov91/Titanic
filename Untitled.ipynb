{
 "cells": [
  {
   "cell_type": "code",
   "execution_count": 3,
   "metadata": {},
   "outputs": [
    {
     "name": "stdout",
     "output_type": "stream",
     "text": [
      "Downloading http://yann.lecun.com/exdb/mnist/train-images-idx3-ubyte.gz to ./MNIST/raw/train-images-idx3-ubyte.gz\n"
     ]
    },
    {
     "data": {
      "application/vnd.jupyter.widget-view+json": {
       "model_id": "cc5a998b82ca46d4bd625b9f51cb1a0f",
       "version_major": 2,
       "version_minor": 0
      },
      "text/plain": [
       "HBox(children=(FloatProgress(value=1.0, bar_style='info', max=1.0), HTML(value='')))"
      ]
     },
     "metadata": {},
     "output_type": "display_data"
    },
    {
     "name": "stdout",
     "output_type": "stream",
     "text": [
      "Extracting ./MNIST/raw/train-images-idx3-ubyte.gz to ./MNIST/raw\n",
      "Downloading http://yann.lecun.com/exdb/mnist/train-labels-idx1-ubyte.gz to ./MNIST/raw/train-labels-idx1-ubyte.gz\n"
     ]
    },
    {
     "data": {
      "application/vnd.jupyter.widget-view+json": {
       "model_id": "78524842a68743c98ee364aeee2624ce",
       "version_major": 2,
       "version_minor": 0
      },
      "text/plain": [
       "HBox(children=(FloatProgress(value=1.0, bar_style='info', max=1.0), HTML(value='')))"
      ]
     },
     "metadata": {},
     "output_type": "display_data"
    },
    {
     "name": "stdout",
     "output_type": "stream",
     "text": [
      "Extracting ./MNIST/raw/train-labels-idx1-ubyte.gz to ./MNIST/raw\n",
      "Downloading http://yann.lecun.com/exdb/mnist/t10k-images-idx3-ubyte.gz to ./MNIST/raw/t10k-images-idx3-ubyte.gz\n",
      "\n"
     ]
    },
    {
     "data": {
      "application/vnd.jupyter.widget-view+json": {
       "model_id": "aadffbc53ab14ea9b411141547e4fa29",
       "version_major": 2,
       "version_minor": 0
      },
      "text/plain": [
       "HBox(children=(FloatProgress(value=1.0, bar_style='info', max=1.0), HTML(value='')))"
      ]
     },
     "metadata": {},
     "output_type": "display_data"
    },
    {
     "name": "stdout",
     "output_type": "stream",
     "text": [
      "Extracting ./MNIST/raw/t10k-images-idx3-ubyte.gz to ./MNIST/raw\n",
      "Downloading http://yann.lecun.com/exdb/mnist/t10k-labels-idx1-ubyte.gz to ./MNIST/raw/t10k-labels-idx1-ubyte.gz\n"
     ]
    },
    {
     "data": {
      "application/vnd.jupyter.widget-view+json": {
       "model_id": "2da3c35090a64b1ea1c7eaeae2c3d4a9",
       "version_major": 2,
       "version_minor": 0
      },
      "text/plain": [
       "HBox(children=(FloatProgress(value=1.0, bar_style='info', max=1.0), HTML(value='')))"
      ]
     },
     "metadata": {},
     "output_type": "display_data"
    },
    {
     "name": "stdout",
     "output_type": "stream",
     "text": [
      "Extracting ./MNIST/raw/t10k-labels-idx1-ubyte.gz to ./MNIST/raw\n",
      "Processing...\n"
     ]
    },
    {
     "name": "stderr",
     "output_type": "stream",
     "text": [
      "/opt/conda/conda-bld/pytorch_1587428266983/work/torch/csrc/utils/tensor_numpy.cpp:141: UserWarning: The given NumPy array is not writeable, and PyTorch does not support non-writeable tensors. This means you can write to the underlying (supposedly non-writeable) NumPy array using the tensor. You may want to copy the array to protect its data or make it writeable before converting it to a tensor. This type of warning will be suppressed for the rest of this program.\n"
     ]
    },
    {
     "name": "stdout",
     "output_type": "stream",
     "text": [
      "Done!\n",
      "\n",
      "Epoch: 1 Validation accuracy: 0.69\n",
      "Epoch: 2 Validation accuracy: 0.84\n",
      "Epoch: 3 Validation accuracy: 0.89\n",
      "Epoch: 4 Validation accuracy: 0.91\n",
      "Epoch: 5 Validation accuracy: 0.91\n",
      "Epoch: 6 Validation accuracy: 0.93\n",
      "Epoch: 7 Validation accuracy: 0.93\n",
      "Epoch: 8 Validation accuracy: 0.93\n",
      "Epoch: 9 Validation accuracy: 0.94\n",
      "Epoch: 10 Validation accuracy: 0.94\n"
     ]
    },
    {
     "name": "stderr",
     "output_type": "stream",
     "text": [
      "[I 2020-07-15 14:11:52,646] Finished trial#0 with value: 0.942 with parameters: {'dropout_rate': 0.6657547007136508, 'fc2_input_dim': 62}. Best is trial#0 with value: 0.942.\n"
     ]
    },
    {
     "name": "stdout",
     "output_type": "stream",
     "text": [
      "Epoch: 1 Validation accuracy: 0.74\n",
      "Epoch: 2 Validation accuracy: 0.86\n",
      "Epoch: 3 Validation accuracy: 0.90\n",
      "Epoch: 4 Validation accuracy: 0.91\n",
      "Epoch: 5 Validation accuracy: 0.92\n",
      "Epoch: 6 Validation accuracy: 0.94\n",
      "Epoch: 7 Validation accuracy: 0.94\n",
      "Epoch: 8 Validation accuracy: 0.95\n",
      "Epoch: 9 Validation accuracy: 0.95\n",
      "Epoch: 10 Validation accuracy: 0.95\n"
     ]
    },
    {
     "name": "stderr",
     "output_type": "stream",
     "text": [
      "[I 2020-07-15 14:11:58,012] Finished trial#1 with value: 0.949 with parameters: {'dropout_rate': 0.01755525470219188, 'fc2_input_dim': 46}. Best is trial#1 with value: 0.949.\n"
     ]
    },
    {
     "name": "stdout",
     "output_type": "stream",
     "text": [
      "Epoch: 1 Validation accuracy: 0.65\n",
      "Epoch: 2 Validation accuracy: 0.80\n",
      "Epoch: 3 Validation accuracy: 0.83\n",
      "Epoch: 4 Validation accuracy: 0.89\n",
      "Epoch: 5 Validation accuracy: 0.91\n",
      "Epoch: 6 Validation accuracy: 0.91\n",
      "Epoch: 7 Validation accuracy: 0.93\n",
      "Epoch: 8 Validation accuracy: 0.93\n",
      "Epoch: 9 Validation accuracy: 0.93\n",
      "Epoch: 10 Validation accuracy: 0.92\n"
     ]
    },
    {
     "name": "stderr",
     "output_type": "stream",
     "text": [
      "[I 2020-07-15 14:12:03,138] Finished trial#2 with value: 0.921 with parameters: {'dropout_rate': 0.7294920185137866, 'fc2_input_dim': 75}. Best is trial#1 with value: 0.949.\n"
     ]
    },
    {
     "name": "stdout",
     "output_type": "stream",
     "text": [
      "Epoch: 1 Validation accuracy: 0.79\n",
      "Epoch: 2 Validation accuracy: 0.88\n",
      "Epoch: 3 Validation accuracy: 0.91\n",
      "Epoch: 4 Validation accuracy: 0.92\n",
      "Epoch: 5 Validation accuracy: 0.93\n",
      "Epoch: 6 Validation accuracy: 0.94\n",
      "Epoch: 7 Validation accuracy: 0.94\n",
      "Epoch: 8 Validation accuracy: 0.95\n",
      "Epoch: 9 Validation accuracy: 0.95\n",
      "Epoch: 10 Validation accuracy: 0.96\n"
     ]
    },
    {
     "name": "stderr",
     "output_type": "stream",
     "text": [
      "[I 2020-07-15 14:12:08,366] Finished trial#3 with value: 0.96 with parameters: {'dropout_rate': 0.474541174900423, 'fc2_input_dim': 78}. Best is trial#3 with value: 0.96.\n"
     ]
    },
    {
     "name": "stdout",
     "output_type": "stream",
     "text": [
      "Epoch: 1 Validation accuracy: 0.29\n",
      "Epoch: 2 Validation accuracy: 0.61\n",
      "Epoch: 3 Validation accuracy: 0.70\n",
      "Epoch: 4 Validation accuracy: 0.76\n",
      "Epoch: 5 Validation accuracy: 0.78\n",
      "Epoch: 6 Validation accuracy: 0.84\n",
      "Epoch: 7 Validation accuracy: 0.83\n",
      "Epoch: 8 Validation accuracy: 0.85\n",
      "Epoch: 9 Validation accuracy: 0.85\n",
      "Epoch: 10 Validation accuracy: 0.85\n"
     ]
    },
    {
     "name": "stderr",
     "output_type": "stream",
     "text": [
      "[I 2020-07-15 14:12:14,095] Finished trial#4 with value: 0.848 with parameters: {'dropout_rate': 0.9191431965877437, 'fc2_input_dim': 52}. Best is trial#3 with value: 0.96.\n"
     ]
    },
    {
     "name": "stdout",
     "output_type": "stream",
     "text": [
      "Epoch: 1 Validation accuracy: 0.80\n",
      "Epoch: 2 Validation accuracy: 0.89\n",
      "Epoch: 3 Validation accuracy: 0.92\n",
      "Epoch: 4 Validation accuracy: 0.92\n",
      "Epoch: 5 Validation accuracy: 0.94\n",
      "Epoch: 6 Validation accuracy: 0.94\n",
      "Epoch: 7 Validation accuracy: 0.94\n",
      "Epoch: 8 Validation accuracy: 0.95\n",
      "Epoch: 9 Validation accuracy: 0.96\n",
      "Epoch: 10 Validation accuracy: 0.95\n"
     ]
    },
    {
     "name": "stderr",
     "output_type": "stream",
     "text": [
      "[I 2020-07-15 14:12:19,730] Finished trial#5 with value: 0.954 with parameters: {'dropout_rate': 0.08421807407305004, 'fc2_input_dim': 62}. Best is trial#3 with value: 0.96.\n"
     ]
    },
    {
     "name": "stdout",
     "output_type": "stream",
     "text": [
      "Epoch: 1 Validation accuracy: 0.71\n"
     ]
    },
    {
     "name": "stderr",
     "output_type": "stream",
     "text": [
      "Engine run is terminating due to exception: Trial was pruned at 2 epoch..\n",
      "Engine run is terminating due to exception: Trial was pruned at 2 epoch..\n",
      "[I 2020-07-15 14:12:20,817] Setting status of trial#6 as TrialState.PRUNED. Trial was pruned at 2 epoch.\n",
      "Engine run is terminating due to exception: Trial was pruned at 1 epoch..\n",
      "Engine run is terminating due to exception: Trial was pruned at 1 epoch..\n",
      "[I 2020-07-15 14:12:21,365] Setting status of trial#7 as TrialState.PRUNED. Trial was pruned at 1 epoch.\n"
     ]
    },
    {
     "name": "stdout",
     "output_type": "stream",
     "text": [
      "Epoch: 1 Validation accuracy: 0.74\n",
      "Epoch: 2 Validation accuracy: 0.86\n",
      "Epoch: 3 Validation accuracy: 0.90\n"
     ]
    },
    {
     "name": "stderr",
     "output_type": "stream",
     "text": [
      "Engine run is terminating due to exception: Trial was pruned at 4 epoch..\n",
      "Engine run is terminating due to exception: Trial was pruned at 4 epoch..\n",
      "[I 2020-07-15 14:12:23,522] Setting status of trial#8 as TrialState.PRUNED. Trial was pruned at 4 epoch.\n"
     ]
    },
    {
     "name": "stdout",
     "output_type": "stream",
     "text": [
      "Epoch: 1 Validation accuracy: 0.75\n",
      "Epoch: 2 Validation accuracy: 0.88\n",
      "Epoch: 3 Validation accuracy: 0.92\n",
      "Epoch: 4 Validation accuracy: 0.93\n",
      "Epoch: 5 Validation accuracy: 0.94\n",
      "Epoch: 6 Validation accuracy: 0.95\n",
      "Epoch: 7 Validation accuracy: 0.95\n",
      "Epoch: 8 Validation accuracy: 0.95\n",
      "Epoch: 9 Validation accuracy: 0.96\n",
      "Epoch: 10 Validation accuracy: 0.96\n"
     ]
    },
    {
     "name": "stderr",
     "output_type": "stream",
     "text": [
      "[I 2020-07-15 14:12:28,785] Finished trial#9 with value: 0.957 with parameters: {'dropout_rate': 0.20111728936231943, 'fc2_input_dim': 66}. Best is trial#3 with value: 0.96.\n",
      "Engine run is terminating due to exception: Trial was pruned at 1 epoch..\n",
      "Engine run is terminating due to exception: Trial was pruned at 1 epoch..\n",
      "[I 2020-07-15 14:12:29,316] Setting status of trial#10 as TrialState.PRUNED. Trial was pruned at 1 epoch.\n"
     ]
    },
    {
     "name": "stdout",
     "output_type": "stream",
     "text": [
      "Epoch: 1 Validation accuracy: 0.77\n",
      "Epoch: 2 Validation accuracy: 0.87\n"
     ]
    },
    {
     "name": "stderr",
     "output_type": "stream",
     "text": [
      "Engine run is terminating due to exception: Trial was pruned at 3 epoch..\n",
      "Engine run is terminating due to exception: Trial was pruned at 3 epoch..\n",
      "[I 2020-07-15 14:12:30,988] Setting status of trial#11 as TrialState.PRUNED. Trial was pruned at 3 epoch.\n"
     ]
    },
    {
     "name": "stdout",
     "output_type": "stream",
     "text": [
      "Epoch: 1 Validation accuracy: 0.77\n"
     ]
    },
    {
     "name": "stderr",
     "output_type": "stream",
     "text": [
      "Engine run is terminating due to exception: Trial was pruned at 2 epoch..\n",
      "Engine run is terminating due to exception: Trial was pruned at 2 epoch..\n",
      "[I 2020-07-15 14:12:32,179] Setting status of trial#12 as TrialState.PRUNED. Trial was pruned at 2 epoch.\n",
      "Engine run is terminating due to exception: Trial was pruned at 1 epoch..\n",
      "Engine run is terminating due to exception: Trial was pruned at 1 epoch..\n",
      "[I 2020-07-15 14:12:32,731] Setting status of trial#13 as TrialState.PRUNED. Trial was pruned at 1 epoch.\n"
     ]
    },
    {
     "name": "stdout",
     "output_type": "stream",
     "text": [
      "Epoch: 1 Validation accuracy: 0.80\n",
      "Epoch: 2 Validation accuracy: 0.88\n",
      "Epoch: 3 Validation accuracy: 0.92\n",
      "Epoch: 4 Validation accuracy: 0.93\n",
      "Epoch: 5 Validation accuracy: 0.94\n",
      "Epoch: 6 Validation accuracy: 0.94\n",
      "Epoch: 7 Validation accuracy: 0.94\n",
      "Epoch: 8 Validation accuracy: 0.95\n"
     ]
    },
    {
     "name": "stderr",
     "output_type": "stream",
     "text": [
      "Engine run is terminating due to exception: Trial was pruned at 9 epoch..\n",
      "Engine run is terminating due to exception: Trial was pruned at 9 epoch..\n",
      "[I 2020-07-15 14:12:37,832] Setting status of trial#14 as TrialState.PRUNED. Trial was pruned at 9 epoch.\n",
      "Engine run is terminating due to exception: Trial was pruned at 1 epoch..\n",
      "Engine run is terminating due to exception: Trial was pruned at 1 epoch..\n",
      "[I 2020-07-15 14:12:38,538] Setting status of trial#15 as TrialState.PRUNED. Trial was pruned at 1 epoch.\n",
      "Engine run is terminating due to exception: Trial was pruned at 1 epoch..\n",
      "Engine run is terminating due to exception: Trial was pruned at 1 epoch..\n",
      "[I 2020-07-15 14:12:39,208] Setting status of trial#16 as TrialState.PRUNED. Trial was pruned at 1 epoch.\n",
      "Engine run is terminating due to exception: Trial was pruned at 1 epoch..\n",
      "Engine run is terminating due to exception: Trial was pruned at 1 epoch..\n",
      "[I 2020-07-15 14:12:39,767] Setting status of trial#17 as TrialState.PRUNED. Trial was pruned at 1 epoch.\n"
     ]
    },
    {
     "name": "stdout",
     "output_type": "stream",
     "text": [
      "Epoch: 1 Validation accuracy: 0.78\n",
      "Epoch: 2 Validation accuracy: 0.86\n",
      "Epoch: 3 Validation accuracy: 0.91\n",
      "Epoch: 4 Validation accuracy: 0.92\n",
      "Epoch: 5 Validation accuracy: 0.93\n",
      "Epoch: 6 Validation accuracy: 0.95\n",
      "Epoch: 7 Validation accuracy: 0.95\n",
      "Epoch: 8 Validation accuracy: 0.94\n",
      "Epoch: 9 Validation accuracy: 0.96\n",
      "Epoch: 10 Validation accuracy: 0.96\n"
     ]
    },
    {
     "name": "stderr",
     "output_type": "stream",
     "text": [
      "[I 2020-07-15 14:12:45,360] Finished trial#18 with value: 0.959 with parameters: {'dropout_rate': 0.019063753880826872, 'fc2_input_dim': 66}. Best is trial#3 with value: 0.96.\n"
     ]
    },
    {
     "name": "stdout",
     "output_type": "stream",
     "text": [
      "Epoch: 1 Validation accuracy: 0.76\n",
      "Epoch: 2 Validation accuracy: 0.87\n"
     ]
    },
    {
     "name": "stderr",
     "output_type": "stream",
     "text": [
      "Engine run is terminating due to exception: Trial was pruned at 3 epoch..\n",
      "Engine run is terminating due to exception: Trial was pruned at 3 epoch..\n",
      "[I 2020-07-15 14:12:46,981] Setting status of trial#19 as TrialState.PRUNED. Trial was pruned at 3 epoch.\n",
      "Engine run is terminating due to exception: Trial was pruned at 1 epoch..\n",
      "Engine run is terminating due to exception: Trial was pruned at 1 epoch..\n",
      "[I 2020-07-15 14:12:47,545] Setting status of trial#20 as TrialState.PRUNED. Trial was pruned at 1 epoch.\n",
      "Engine run is terminating due to exception: Trial was pruned at 1 epoch..\n",
      "Engine run is terminating due to exception: Trial was pruned at 1 epoch..\n",
      "[I 2020-07-15 14:12:48,229] Setting status of trial#21 as TrialState.PRUNED. Trial was pruned at 1 epoch.\n"
     ]
    },
    {
     "name": "stdout",
     "output_type": "stream",
     "text": [
      "Epoch: 1 Validation accuracy: 0.81\n",
      "Epoch: 2 Validation accuracy: 0.89\n",
      "Epoch: 3 Validation accuracy: 0.92\n",
      "Epoch: 4 Validation accuracy: 0.92\n",
      "Epoch: 5 Validation accuracy: 0.94\n",
      "Epoch: 6 Validation accuracy: 0.94\n",
      "Epoch: 7 Validation accuracy: 0.95\n",
      "Epoch: 8 Validation accuracy: 0.95\n",
      "Epoch: 9 Validation accuracy: 0.96\n",
      "Epoch: 10 Validation accuracy: 0.96\n"
     ]
    },
    {
     "name": "stderr",
     "output_type": "stream",
     "text": [
      "[I 2020-07-15 14:12:53,561] Finished trial#22 with value: 0.958 with parameters: {'dropout_rate': 0.005197878679202739, 'fc2_input_dim': 72}. Best is trial#3 with value: 0.96.\n"
     ]
    },
    {
     "name": "stdout",
     "output_type": "stream",
     "text": [
      "Epoch: 1 Validation accuracy: 0.82\n",
      "Epoch: 2 Validation accuracy: 0.90\n",
      "Epoch: 3 Validation accuracy: 0.92\n",
      "Epoch: 4 Validation accuracy: 0.92\n",
      "Epoch: 5 Validation accuracy: 0.93\n",
      "Epoch: 6 Validation accuracy: 0.95\n",
      "Epoch: 7 Validation accuracy: 0.95\n",
      "Epoch: 8 Validation accuracy: 0.94\n"
     ]
    },
    {
     "name": "stderr",
     "output_type": "stream",
     "text": [
      "Engine run is terminating due to exception: Trial was pruned at 9 epoch..\n",
      "Engine run is terminating due to exception: Trial was pruned at 9 epoch..\n",
      "[I 2020-07-15 14:12:58,122] Setting status of trial#23 as TrialState.PRUNED. Trial was pruned at 9 epoch.\n"
     ]
    },
    {
     "name": "stdout",
     "output_type": "stream",
     "text": [
      "Epoch: 1 Validation accuracy: 0.78\n",
      "Epoch: 2 Validation accuracy: 0.90\n",
      "Epoch: 3 Validation accuracy: 0.93\n",
      "Epoch: 4 Validation accuracy: 0.94\n",
      "Epoch: 5 Validation accuracy: 0.94\n",
      "Epoch: 6 Validation accuracy: 0.95\n",
      "Epoch: 7 Validation accuracy: 0.96\n",
      "Epoch: 8 Validation accuracy: 0.95\n",
      "Epoch: 9 Validation accuracy: 0.96\n",
      "Epoch: 10 Validation accuracy: 0.96\n"
     ]
    },
    {
     "name": "stderr",
     "output_type": "stream",
     "text": [
      "[I 2020-07-15 14:13:03,311] Finished trial#24 with value: 0.957 with parameters: {'dropout_rate': 0.08328268834132323, 'fc2_input_dim': 76}. Best is trial#3 with value: 0.96.\n",
      "Engine run is terminating due to exception: Trial was pruned at 1 epoch..\n",
      "Engine run is terminating due to exception: Trial was pruned at 1 epoch..\n",
      "[I 2020-07-15 14:13:03,876] Setting status of trial#25 as TrialState.PRUNED. Trial was pruned at 1 epoch.\n"
     ]
    },
    {
     "name": "stdout",
     "output_type": "stream",
     "text": [
      "Epoch: 1 Validation accuracy: 0.78\n"
     ]
    },
    {
     "name": "stderr",
     "output_type": "stream",
     "text": [
      "Engine run is terminating due to exception: Trial was pruned at 2 epoch..\n",
      "Engine run is terminating due to exception: Trial was pruned at 2 epoch..\n",
      "[I 2020-07-15 14:13:04,938] Setting status of trial#26 as TrialState.PRUNED. Trial was pruned at 2 epoch.\n"
     ]
    },
    {
     "name": "stdout",
     "output_type": "stream",
     "text": [
      "Epoch: 1 Validation accuracy: 0.77\n",
      "Epoch: 2 Validation accuracy: 0.88\n"
     ]
    },
    {
     "name": "stderr",
     "output_type": "stream",
     "text": [
      "Engine run is terminating due to exception: Trial was pruned at 3 epoch..\n",
      "Engine run is terminating due to exception: Trial was pruned at 3 epoch..\n",
      "[I 2020-07-15 14:13:06,510] Setting status of trial#27 as TrialState.PRUNED. Trial was pruned at 3 epoch.\n",
      "Engine run is terminating due to exception: Trial was pruned at 1 epoch..\n",
      "Engine run is terminating due to exception: Trial was pruned at 1 epoch..\n",
      "[I 2020-07-15 14:13:07,072] Setting status of trial#28 as TrialState.PRUNED. Trial was pruned at 1 epoch.\n",
      "Engine run is terminating due to exception: Trial was pruned at 1 epoch..\n",
      "Engine run is terminating due to exception: Trial was pruned at 1 epoch..\n",
      "[I 2020-07-15 14:13:07,629] Setting status of trial#29 as TrialState.PRUNED. Trial was pruned at 1 epoch.\n"
     ]
    },
    {
     "name": "stdout",
     "output_type": "stream",
     "text": [
      "Epoch: 1 Validation accuracy: 0.79\n"
     ]
    },
    {
     "name": "stderr",
     "output_type": "stream",
     "text": [
      "Engine run is terminating due to exception: Trial was pruned at 2 epoch..\n",
      "Engine run is terminating due to exception: Trial was pruned at 2 epoch..\n",
      "[I 2020-07-15 14:13:08,708] Setting status of trial#30 as TrialState.PRUNED. Trial was pruned at 2 epoch.\n"
     ]
    },
    {
     "name": "stdout",
     "output_type": "stream",
     "text": [
      "Epoch: 1 Validation accuracy: 0.83\n",
      "Epoch: 2 Validation accuracy: 0.88\n",
      "Epoch: 3 Validation accuracy: 0.93\n",
      "Epoch: 4 Validation accuracy: 0.94\n",
      "Epoch: 5 Validation accuracy: 0.95\n",
      "Epoch: 6 Validation accuracy: 0.96\n",
      "Epoch: 7 Validation accuracy: 0.96\n",
      "Epoch: 8 Validation accuracy: 0.96\n",
      "Epoch: 9 Validation accuracy: 0.95\n",
      "Epoch: 10 Validation accuracy: 0.96\n"
     ]
    },
    {
     "name": "stderr",
     "output_type": "stream",
     "text": [
      "[I 2020-07-15 14:13:13,937] Finished trial#31 with value: 0.963 with parameters: {'dropout_rate': 0.07877890508969125, 'fc2_input_dim': 77}. Best is trial#31 with value: 0.963.\n",
      "Engine run is terminating due to exception: Trial was pruned at 1 epoch..\n",
      "Engine run is terminating due to exception: Trial was pruned at 1 epoch..\n",
      "[I 2020-07-15 14:13:14,459] Setting status of trial#32 as TrialState.PRUNED. Trial was pruned at 1 epoch.\n"
     ]
    },
    {
     "name": "stdout",
     "output_type": "stream",
     "text": [
      "Epoch: 1 Validation accuracy: 0.79\n"
     ]
    },
    {
     "name": "stderr",
     "output_type": "stream",
     "text": [
      "Engine run is terminating due to exception: Trial was pruned at 2 epoch..\n",
      "Engine run is terminating due to exception: Trial was pruned at 2 epoch..\n",
      "[I 2020-07-15 14:13:15,521] Setting status of trial#33 as TrialState.PRUNED. Trial was pruned at 2 epoch.\n"
     ]
    },
    {
     "name": "stdout",
     "output_type": "stream",
     "text": [
      "Epoch: 1 Validation accuracy: 0.81\n",
      "Epoch: 2 Validation accuracy: 0.89\n",
      "Epoch: 3 Validation accuracy: 0.91\n",
      "Epoch: 4 Validation accuracy: 0.93\n",
      "Epoch: 5 Validation accuracy: 0.94\n"
     ]
    },
    {
     "name": "stderr",
     "output_type": "stream",
     "text": [
      "Engine run is terminating due to exception: Trial was pruned at 6 epoch..\n",
      "Engine run is terminating due to exception: Trial was pruned at 6 epoch..\n",
      "[I 2020-07-15 14:13:18,582] Setting status of trial#34 as TrialState.PRUNED. Trial was pruned at 6 epoch.\n"
     ]
    },
    {
     "name": "stdout",
     "output_type": "stream",
     "text": [
      "Epoch: 1 Validation accuracy: 0.80\n",
      "Epoch: 2 Validation accuracy: 0.88\n",
      "Epoch: 3 Validation accuracy: 0.92\n",
      "Epoch: 4 Validation accuracy: 0.92\n",
      "Epoch: 5 Validation accuracy: 0.95\n",
      "Epoch: 6 Validation accuracy: 0.95\n",
      "Epoch: 7 Validation accuracy: 0.95\n",
      "Epoch: 8 Validation accuracy: 0.96\n",
      "Epoch: 9 Validation accuracy: 0.95\n",
      "Epoch: 10 Validation accuracy: 0.95\n"
     ]
    },
    {
     "name": "stderr",
     "output_type": "stream",
     "text": [
      "[I 2020-07-15 14:13:23,814] Finished trial#35 with value: 0.952 with parameters: {'dropout_rate': 0.050682030077897275, 'fc2_input_dim': 76}. Best is trial#31 with value: 0.963.\n"
     ]
    },
    {
     "name": "stdout",
     "output_type": "stream",
     "text": [
      "Epoch: 1 Validation accuracy: 0.79\n"
     ]
    },
    {
     "name": "stderr",
     "output_type": "stream",
     "text": [
      "Engine run is terminating due to exception: Trial was pruned at 2 epoch..\n",
      "Engine run is terminating due to exception: Trial was pruned at 2 epoch..\n",
      "[I 2020-07-15 14:13:24,846] Setting status of trial#36 as TrialState.PRUNED. Trial was pruned at 2 epoch.\n",
      "Engine run is terminating due to exception: Trial was pruned at 1 epoch..\n",
      "Engine run is terminating due to exception: Trial was pruned at 1 epoch..\n",
      "[I 2020-07-15 14:13:25,412] Setting status of trial#37 as TrialState.PRUNED. Trial was pruned at 1 epoch.\n",
      "Engine run is terminating due to exception: Trial was pruned at 1 epoch..\n",
      "Engine run is terminating due to exception: Trial was pruned at 1 epoch..\n",
      "[I 2020-07-15 14:13:25,970] Setting status of trial#38 as TrialState.PRUNED. Trial was pruned at 1 epoch.\n",
      "Engine run is terminating due to exception: Trial was pruned at 1 epoch..\n",
      "Engine run is terminating due to exception: Trial was pruned at 1 epoch..\n",
      "[I 2020-07-15 14:13:26,527] Setting status of trial#39 as TrialState.PRUNED. Trial was pruned at 1 epoch.\n"
     ]
    },
    {
     "name": "stdout",
     "output_type": "stream",
     "text": [
      "Epoch: 1 Validation accuracy: 0.80\n",
      "Epoch: 2 Validation accuracy: 0.90\n",
      "Epoch: 3 Validation accuracy: 0.92\n",
      "Epoch: 4 Validation accuracy: 0.93\n"
     ]
    },
    {
     "name": "stderr",
     "output_type": "stream",
     "text": [
      "Engine run is terminating due to exception: Trial was pruned at 5 epoch..\n",
      "Engine run is terminating due to exception: Trial was pruned at 5 epoch..\n",
      "[I 2020-07-15 14:13:29,312] Setting status of trial#40 as TrialState.PRUNED. Trial was pruned at 5 epoch.\n"
     ]
    },
    {
     "name": "stdout",
     "output_type": "stream",
     "text": [
      "Epoch: 1 Validation accuracy: 0.81\n",
      "Epoch: 2 Validation accuracy: 0.89\n",
      "Epoch: 3 Validation accuracy: 0.92\n",
      "Epoch: 4 Validation accuracy: 0.93\n",
      "Epoch: 5 Validation accuracy: 0.94\n"
     ]
    },
    {
     "name": "stderr",
     "output_type": "stream",
     "text": [
      "Engine run is terminating due to exception: Trial was pruned at 6 epoch..\n",
      "Engine run is terminating due to exception: Trial was pruned at 6 epoch..\n",
      "[I 2020-07-15 14:13:32,747] Setting status of trial#41 as TrialState.PRUNED. Trial was pruned at 6 epoch.\n"
     ]
    },
    {
     "name": "stdout",
     "output_type": "stream",
     "text": [
      "Epoch: 1 Validation accuracy: 0.81\n",
      "Epoch: 2 Validation accuracy: 0.90\n",
      "Epoch: 3 Validation accuracy: 0.92\n",
      "Epoch: 4 Validation accuracy: 0.93\n"
     ]
    },
    {
     "name": "stderr",
     "output_type": "stream",
     "text": [
      "Engine run is terminating due to exception: Trial was pruned at 5 epoch..\n",
      "Engine run is terminating due to exception: Trial was pruned at 5 epoch..\n",
      "[I 2020-07-15 14:13:35,623] Setting status of trial#42 as TrialState.PRUNED. Trial was pruned at 5 epoch.\n"
     ]
    },
    {
     "name": "stdout",
     "output_type": "stream",
     "text": [
      "Epoch: 1 Validation accuracy: 0.79\n"
     ]
    },
    {
     "name": "stderr",
     "output_type": "stream",
     "text": [
      "Engine run is terminating due to exception: Trial was pruned at 2 epoch..\n",
      "Engine run is terminating due to exception: Trial was pruned at 2 epoch..\n",
      "[I 2020-07-15 14:13:36,965] Setting status of trial#43 as TrialState.PRUNED. Trial was pruned at 2 epoch.\n",
      "Engine run is terminating due to exception: Trial was pruned at 1 epoch..\n",
      "Engine run is terminating due to exception: Trial was pruned at 1 epoch..\n",
      "[I 2020-07-15 14:13:37,666] Setting status of trial#44 as TrialState.PRUNED. Trial was pruned at 1 epoch.\n"
     ]
    },
    {
     "name": "stdout",
     "output_type": "stream",
     "text": [
      "Epoch: 1 Validation accuracy: 0.80\n"
     ]
    },
    {
     "name": "stderr",
     "output_type": "stream",
     "text": [
      "Engine run is terminating due to exception: Trial was pruned at 2 epoch..\n",
      "Engine run is terminating due to exception: Trial was pruned at 2 epoch..\n",
      "[I 2020-07-15 14:13:38,992] Setting status of trial#45 as TrialState.PRUNED. Trial was pruned at 2 epoch.\n"
     ]
    },
    {
     "name": "stdout",
     "output_type": "stream",
     "text": [
      "Epoch: 1 Validation accuracy: 0.79\n",
      "Epoch: 2 Validation accuracy: 0.89\n"
     ]
    },
    {
     "name": "stderr",
     "output_type": "stream",
     "text": [
      "Engine run is terminating due to exception: Trial was pruned at 3 epoch..\n",
      "Engine run is terminating due to exception: Trial was pruned at 3 epoch..\n",
      "[I 2020-07-15 14:13:40,702] Setting status of trial#46 as TrialState.PRUNED. Trial was pruned at 3 epoch.\n",
      "Engine run is terminating due to exception: Trial was pruned at 1 epoch..\n",
      "Engine run is terminating due to exception: Trial was pruned at 1 epoch..\n",
      "[I 2020-07-15 14:13:41,266] Setting status of trial#47 as TrialState.PRUNED. Trial was pruned at 1 epoch.\n",
      "Engine run is terminating due to exception: Trial was pruned at 1 epoch..\n",
      "Engine run is terminating due to exception: Trial was pruned at 1 epoch..\n",
      "[I 2020-07-15 14:13:41,819] Setting status of trial#48 as TrialState.PRUNED. Trial was pruned at 1 epoch.\n"
     ]
    },
    {
     "name": "stdout",
     "output_type": "stream",
     "text": [
      "Epoch: 1 Validation accuracy: 0.79\n",
      "Epoch: 2 Validation accuracy: 0.90\n",
      "Epoch: 3 Validation accuracy: 0.92\n",
      "Epoch: 4 Validation accuracy: 0.94\n",
      "Epoch: 5 Validation accuracy: 0.95\n",
      "Epoch: 6 Validation accuracy: 0.96\n",
      "Epoch: 7 Validation accuracy: 0.95\n",
      "Epoch: 8 Validation accuracy: 0.95\n",
      "Epoch: 9 Validation accuracy: 0.96\n",
      "Epoch: 10 Validation accuracy: 0.96\n"
     ]
    },
    {
     "name": "stderr",
     "output_type": "stream",
     "text": [
      "[I 2020-07-15 14:13:47,534] Finished trial#49 with value: 0.956 with parameters: {'dropout_rate': 0.09403242373634295, 'fc2_input_dim': 75}. Best is trial#31 with value: 0.963.\n",
      "Engine run is terminating due to exception: Trial was pruned at 1 epoch..\n",
      "Engine run is terminating due to exception: Trial was pruned at 1 epoch..\n",
      "[I 2020-07-15 14:13:48,053] Setting status of trial#50 as TrialState.PRUNED. Trial was pruned at 1 epoch.\n",
      "Engine run is terminating due to exception: Trial was pruned at 1 epoch..\n",
      "Engine run is terminating due to exception: Trial was pruned at 1 epoch..\n",
      "[I 2020-07-15 14:13:48,601] Setting status of trial#51 as TrialState.PRUNED. Trial was pruned at 1 epoch.\n",
      "Engine run is terminating due to exception: Trial was pruned at 1 epoch..\n",
      "Engine run is terminating due to exception: Trial was pruned at 1 epoch..\n",
      "[I 2020-07-15 14:13:49,164] Setting status of trial#52 as TrialState.PRUNED. Trial was pruned at 1 epoch.\n"
     ]
    },
    {
     "name": "stdout",
     "output_type": "stream",
     "text": [
      "Epoch: 1 Validation accuracy: 0.79\n"
     ]
    },
    {
     "name": "stderr",
     "output_type": "stream",
     "text": [
      "Engine run is terminating due to exception: Trial was pruned at 2 epoch..\n",
      "Engine run is terminating due to exception: Trial was pruned at 2 epoch..\n",
      "[I 2020-07-15 14:13:50,236] Setting status of trial#53 as TrialState.PRUNED. Trial was pruned at 2 epoch.\n"
     ]
    },
    {
     "name": "stdout",
     "output_type": "stream",
     "text": [
      "Epoch: 1 Validation accuracy: 0.80\n"
     ]
    },
    {
     "name": "stderr",
     "output_type": "stream",
     "text": [
      "Engine run is terminating due to exception: Trial was pruned at 2 epoch..\n",
      "Engine run is terminating due to exception: Trial was pruned at 2 epoch..\n",
      "[I 2020-07-15 14:13:51,308] Setting status of trial#54 as TrialState.PRUNED. Trial was pruned at 2 epoch.\n",
      "Engine run is terminating due to exception: Trial was pruned at 1 epoch..\n",
      "Engine run is terminating due to exception: Trial was pruned at 1 epoch..\n",
      "[I 2020-07-15 14:13:51,870] Setting status of trial#55 as TrialState.PRUNED. Trial was pruned at 1 epoch.\n"
     ]
    },
    {
     "name": "stdout",
     "output_type": "stream",
     "text": [
      "Epoch: 1 Validation accuracy: 0.84\n",
      "Epoch: 2 Validation accuracy: 0.89\n",
      "Epoch: 3 Validation accuracy: 0.93\n",
      "Epoch: 4 Validation accuracy: 0.94\n",
      "Epoch: 5 Validation accuracy: 0.94\n",
      "Epoch: 6 Validation accuracy: 0.94\n",
      "Epoch: 7 Validation accuracy: 0.95\n",
      "Epoch: 8 Validation accuracy: 0.96\n",
      "Epoch: 9 Validation accuracy: 0.96\n",
      "Epoch: 10 Validation accuracy: 0.95\n"
     ]
    },
    {
     "name": "stderr",
     "output_type": "stream",
     "text": [
      "[I 2020-07-15 14:13:57,128] Finished trial#56 with value: 0.954 with parameters: {'dropout_rate': 0.12635056380616927, 'fc2_input_dim': 78}. Best is trial#31 with value: 0.963.\n"
     ]
    },
    {
     "name": "stdout",
     "output_type": "stream",
     "text": [
      "Epoch: 1 Validation accuracy: 0.81\n",
      "Epoch: 2 Validation accuracy: 0.90\n",
      "Epoch: 3 Validation accuracy: 0.92\n",
      "Epoch: 4 Validation accuracy: 0.93\n"
     ]
    },
    {
     "name": "stderr",
     "output_type": "stream",
     "text": [
      "Engine run is terminating due to exception: Trial was pruned at 5 epoch..\n",
      "Engine run is terminating due to exception: Trial was pruned at 5 epoch..\n",
      "[I 2020-07-15 14:13:59,640] Setting status of trial#57 as TrialState.PRUNED. Trial was pruned at 5 epoch.\n"
     ]
    },
    {
     "name": "stdout",
     "output_type": "stream",
     "text": [
      "Epoch: 1 Validation accuracy: 0.80\n",
      "Epoch: 2 Validation accuracy: 0.88\n"
     ]
    },
    {
     "name": "stderr",
     "output_type": "stream",
     "text": [
      "Engine run is terminating due to exception: Trial was pruned at 3 epoch..\n",
      "Engine run is terminating due to exception: Trial was pruned at 3 epoch..\n",
      "[I 2020-07-15 14:14:01,248] Setting status of trial#58 as TrialState.PRUNED. Trial was pruned at 3 epoch.\n",
      "Engine run is terminating due to exception: Trial was pruned at 1 epoch..\n",
      "Engine run is terminating due to exception: Trial was pruned at 1 epoch..\n",
      "[I 2020-07-15 14:14:01,814] Setting status of trial#59 as TrialState.PRUNED. Trial was pruned at 1 epoch.\n",
      "Engine run is terminating due to exception: Trial was pruned at 1 epoch..\n",
      "Engine run is terminating due to exception: Trial was pruned at 1 epoch..\n",
      "[I 2020-07-15 14:14:02,398] Setting status of trial#60 as TrialState.PRUNED. Trial was pruned at 1 epoch.\n",
      "Engine run is terminating due to exception: Trial was pruned at 1 epoch..\n",
      "Engine run is terminating due to exception: Trial was pruned at 1 epoch..\n",
      "[I 2020-07-15 14:14:02,949] Setting status of trial#61 as TrialState.PRUNED. Trial was pruned at 1 epoch.\n"
     ]
    },
    {
     "name": "stdout",
     "output_type": "stream",
     "text": [
      "Epoch: 1 Validation accuracy: 0.79\n",
      "Epoch: 2 Validation accuracy: 0.91\n",
      "Epoch: 3 Validation accuracy: 0.92\n",
      "Epoch: 4 Validation accuracy: 0.94\n"
     ]
    },
    {
     "name": "stderr",
     "output_type": "stream",
     "text": [
      "Engine run is terminating due to exception: Trial was pruned at 5 epoch..\n",
      "Engine run is terminating due to exception: Trial was pruned at 5 epoch..\n",
      "[I 2020-07-15 14:14:05,496] Setting status of trial#62 as TrialState.PRUNED. Trial was pruned at 5 epoch.\n",
      "Engine run is terminating due to exception: Trial was pruned at 1 epoch..\n",
      "Engine run is terminating due to exception: Trial was pruned at 1 epoch..\n",
      "[I 2020-07-15 14:14:06,056] Setting status of trial#63 as TrialState.PRUNED. Trial was pruned at 1 epoch.\n"
     ]
    },
    {
     "name": "stdout",
     "output_type": "stream",
     "text": [
      "Epoch: 1 Validation accuracy: 0.82\n"
     ]
    },
    {
     "name": "stderr",
     "output_type": "stream",
     "text": [
      "Engine run is terminating due to exception: Trial was pruned at 2 epoch..\n",
      "Engine run is terminating due to exception: Trial was pruned at 2 epoch..\n",
      "[I 2020-07-15 14:14:07,096] Setting status of trial#64 as TrialState.PRUNED. Trial was pruned at 2 epoch.\n",
      "Engine run is terminating due to exception: Trial was pruned at 1 epoch..\n",
      "Engine run is terminating due to exception: Trial was pruned at 1 epoch..\n",
      "[I 2020-07-15 14:14:07,646] Setting status of trial#65 as TrialState.PRUNED. Trial was pruned at 1 epoch.\n"
     ]
    },
    {
     "name": "stdout",
     "output_type": "stream",
     "text": [
      "Epoch: 1 Validation accuracy: 0.79\n",
      "Epoch: 2 Validation accuracy: 0.88\n"
     ]
    },
    {
     "name": "stderr",
     "output_type": "stream",
     "text": [
      "Engine run is terminating due to exception: Trial was pruned at 3 epoch..\n",
      "Engine run is terminating due to exception: Trial was pruned at 3 epoch..\n",
      "[I 2020-07-15 14:14:09,198] Setting status of trial#66 as TrialState.PRUNED. Trial was pruned at 3 epoch.\n",
      "Engine run is terminating due to exception: Trial was pruned at 1 epoch..\n",
      "Engine run is terminating due to exception: Trial was pruned at 1 epoch..\n",
      "[I 2020-07-15 14:14:09,770] Setting status of trial#67 as TrialState.PRUNED. Trial was pruned at 1 epoch.\n",
      "Engine run is terminating due to exception: Trial was pruned at 1 epoch..\n",
      "Engine run is terminating due to exception: Trial was pruned at 1 epoch..\n",
      "[I 2020-07-15 14:14:10,330] Setting status of trial#68 as TrialState.PRUNED. Trial was pruned at 1 epoch.\n",
      "Engine run is terminating due to exception: Trial was pruned at 1 epoch..\n",
      "Engine run is terminating due to exception: Trial was pruned at 1 epoch..\n",
      "[I 2020-07-15 14:14:10,895] Setting status of trial#69 as TrialState.PRUNED. Trial was pruned at 1 epoch.\n"
     ]
    },
    {
     "name": "stdout",
     "output_type": "stream",
     "text": [
      "Epoch: 1 Validation accuracy: 0.79\n"
     ]
    },
    {
     "name": "stderr",
     "output_type": "stream",
     "text": [
      "Engine run is terminating due to exception: Trial was pruned at 2 epoch..\n",
      "Engine run is terminating due to exception: Trial was pruned at 2 epoch..\n",
      "[I 2020-07-15 14:14:11,973] Setting status of trial#70 as TrialState.PRUNED. Trial was pruned at 2 epoch.\n",
      "Engine run is terminating due to exception: Trial was pruned at 1 epoch..\n",
      "Engine run is terminating due to exception: Trial was pruned at 1 epoch..\n",
      "[I 2020-07-15 14:14:12,539] Setting status of trial#71 as TrialState.PRUNED. Trial was pruned at 1 epoch.\n"
     ]
    },
    {
     "name": "stdout",
     "output_type": "stream",
     "text": [
      "Epoch: 1 Validation accuracy: 0.79\n",
      "Epoch: 2 Validation accuracy: 0.89\n"
     ]
    },
    {
     "name": "stderr",
     "output_type": "stream",
     "text": [
      "Engine run is terminating due to exception: Trial was pruned at 3 epoch..\n",
      "Engine run is terminating due to exception: Trial was pruned at 3 epoch..\n",
      "[I 2020-07-15 14:14:14,094] Setting status of trial#72 as TrialState.PRUNED. Trial was pruned at 3 epoch.\n",
      "Engine run is terminating due to exception: Trial was pruned at 1 epoch..\n",
      "Engine run is terminating due to exception: Trial was pruned at 1 epoch..\n",
      "[I 2020-07-15 14:14:14,653] Setting status of trial#73 as TrialState.PRUNED. Trial was pruned at 1 epoch.\n",
      "Engine run is terminating due to exception: Trial was pruned at 1 epoch..\n",
      "Engine run is terminating due to exception: Trial was pruned at 1 epoch..\n",
      "[I 2020-07-15 14:14:15,213] Setting status of trial#74 as TrialState.PRUNED. Trial was pruned at 1 epoch.\n"
     ]
    },
    {
     "name": "stdout",
     "output_type": "stream",
     "text": [
      "Epoch: 1 Validation accuracy: 0.80\n",
      "Epoch: 2 Validation accuracy: 0.88\n"
     ]
    },
    {
     "name": "stderr",
     "output_type": "stream",
     "text": [
      "Engine run is terminating due to exception: Trial was pruned at 3 epoch..\n",
      "Engine run is terminating due to exception: Trial was pruned at 3 epoch..\n",
      "[I 2020-07-15 14:14:16,807] Setting status of trial#75 as TrialState.PRUNED. Trial was pruned at 3 epoch.\n",
      "Engine run is terminating due to exception: Trial was pruned at 1 epoch..\n",
      "Engine run is terminating due to exception: Trial was pruned at 1 epoch..\n",
      "[I 2020-07-15 14:14:17,372] Setting status of trial#76 as TrialState.PRUNED. Trial was pruned at 1 epoch.\n",
      "Engine run is terminating due to exception: Trial was pruned at 1 epoch..\n",
      "Engine run is terminating due to exception: Trial was pruned at 1 epoch..\n",
      "[I 2020-07-15 14:14:17,927] Setting status of trial#77 as TrialState.PRUNED. Trial was pruned at 1 epoch.\n",
      "Engine run is terminating due to exception: Trial was pruned at 1 epoch..\n",
      "Engine run is terminating due to exception: Trial was pruned at 1 epoch..\n",
      "[I 2020-07-15 14:14:18,488] Setting status of trial#78 as TrialState.PRUNED. Trial was pruned at 1 epoch.\n",
      "Engine run is terminating due to exception: Trial was pruned at 1 epoch..\n",
      "Engine run is terminating due to exception: Trial was pruned at 1 epoch..\n",
      "[I 2020-07-15 14:14:19,051] Setting status of trial#79 as TrialState.PRUNED. Trial was pruned at 1 epoch.\n"
     ]
    },
    {
     "name": "stdout",
     "output_type": "stream",
     "text": [
      "Epoch: 1 Validation accuracy: 0.81\n",
      "Epoch: 2 Validation accuracy: 0.89\n"
     ]
    },
    {
     "name": "stderr",
     "output_type": "stream",
     "text": [
      "Engine run is terminating due to exception: Trial was pruned at 3 epoch..\n",
      "Engine run is terminating due to exception: Trial was pruned at 3 epoch..\n",
      "[I 2020-07-15 14:14:20,623] Setting status of trial#80 as TrialState.PRUNED. Trial was pruned at 3 epoch.\n",
      "Engine run is terminating due to exception: Trial was pruned at 1 epoch..\n",
      "Engine run is terminating due to exception: Trial was pruned at 1 epoch..\n",
      "[I 2020-07-15 14:14:21,183] Setting status of trial#81 as TrialState.PRUNED. Trial was pruned at 1 epoch.\n",
      "Engine run is terminating due to exception: Trial was pruned at 1 epoch..\n",
      "Engine run is terminating due to exception: Trial was pruned at 1 epoch..\n",
      "[I 2020-07-15 14:14:21,737] Setting status of trial#82 as TrialState.PRUNED. Trial was pruned at 1 epoch.\n",
      "Engine run is terminating due to exception: Trial was pruned at 1 epoch..\n",
      "Engine run is terminating due to exception: Trial was pruned at 1 epoch..\n",
      "[I 2020-07-15 14:14:22,293] Setting status of trial#83 as TrialState.PRUNED. Trial was pruned at 1 epoch.\n"
     ]
    },
    {
     "name": "stdout",
     "output_type": "stream",
     "text": [
      "Epoch: 1 Validation accuracy: 0.82\n",
      "Epoch: 2 Validation accuracy: 0.89\n",
      "Epoch: 3 Validation accuracy: 0.92\n",
      "Epoch: 4 Validation accuracy: 0.94\n",
      "Epoch: 5 Validation accuracy: 0.94\n",
      "Epoch: 6 Validation accuracy: 0.95\n",
      "Epoch: 7 Validation accuracy: 0.94\n",
      "Epoch: 8 Validation accuracy: 0.95\n"
     ]
    },
    {
     "name": "stderr",
     "output_type": "stream",
     "text": [
      "Engine run is terminating due to exception: Trial was pruned at 9 epoch..\n",
      "Engine run is terminating due to exception: Trial was pruned at 9 epoch..\n",
      "[I 2020-07-15 14:14:26,972] Setting status of trial#84 as TrialState.PRUNED. Trial was pruned at 9 epoch.\n"
     ]
    },
    {
     "name": "stdout",
     "output_type": "stream",
     "text": [
      "Epoch: 1 Validation accuracy: 0.80\n",
      "Epoch: 2 Validation accuracy: 0.88\n"
     ]
    },
    {
     "name": "stderr",
     "output_type": "stream",
     "text": [
      "Engine run is terminating due to exception: Trial was pruned at 3 epoch..\n",
      "Engine run is terminating due to exception: Trial was pruned at 3 epoch..\n",
      "[I 2020-07-15 14:14:28,567] Setting status of trial#85 as TrialState.PRUNED. Trial was pruned at 3 epoch.\n"
     ]
    },
    {
     "name": "stdout",
     "output_type": "stream",
     "text": [
      "Epoch: 1 Validation accuracy: 0.81\n",
      "Epoch: 2 Validation accuracy: 0.88\n"
     ]
    },
    {
     "name": "stderr",
     "output_type": "stream",
     "text": [
      "Engine run is terminating due to exception: Trial was pruned at 3 epoch..\n",
      "Engine run is terminating due to exception: Trial was pruned at 3 epoch..\n",
      "[I 2020-07-15 14:14:30,155] Setting status of trial#86 as TrialState.PRUNED. Trial was pruned at 3 epoch.\n"
     ]
    },
    {
     "name": "stdout",
     "output_type": "stream",
     "text": [
      "Epoch: 1 Validation accuracy: 0.79\n"
     ]
    },
    {
     "name": "stderr",
     "output_type": "stream",
     "text": [
      "Engine run is terminating due to exception: Trial was pruned at 2 epoch..\n",
      "Engine run is terminating due to exception: Trial was pruned at 2 epoch..\n",
      "[I 2020-07-15 14:14:31,221] Setting status of trial#87 as TrialState.PRUNED. Trial was pruned at 2 epoch.\n",
      "Engine run is terminating due to exception: Trial was pruned at 1 epoch..\n",
      "Engine run is terminating due to exception: Trial was pruned at 1 epoch..\n",
      "[I 2020-07-15 14:14:31,775] Setting status of trial#88 as TrialState.PRUNED. Trial was pruned at 1 epoch.\n"
     ]
    },
    {
     "name": "stdout",
     "output_type": "stream",
     "text": [
      "Epoch: 1 Validation accuracy: 0.79\n"
     ]
    },
    {
     "name": "stderr",
     "output_type": "stream",
     "text": [
      "Engine run is terminating due to exception: Trial was pruned at 2 epoch..\n",
      "Engine run is terminating due to exception: Trial was pruned at 2 epoch..\n",
      "[I 2020-07-15 14:14:32,865] Setting status of trial#89 as TrialState.PRUNED. Trial was pruned at 2 epoch.\n",
      "Engine run is terminating due to exception: Trial was pruned at 1 epoch..\n",
      "Engine run is terminating due to exception: Trial was pruned at 1 epoch..\n",
      "[I 2020-07-15 14:14:33,432] Setting status of trial#90 as TrialState.PRUNED. Trial was pruned at 1 epoch.\n",
      "Engine run is terminating due to exception: Trial was pruned at 1 epoch..\n",
      "Engine run is terminating due to exception: Trial was pruned at 1 epoch..\n",
      "[I 2020-07-15 14:14:33,992] Setting status of trial#91 as TrialState.PRUNED. Trial was pruned at 1 epoch.\n",
      "Engine run is terminating due to exception: Trial was pruned at 1 epoch..\n",
      "Engine run is terminating due to exception: Trial was pruned at 1 epoch..\n",
      "[I 2020-07-15 14:14:34,550] Setting status of trial#92 as TrialState.PRUNED. Trial was pruned at 1 epoch.\n"
     ]
    },
    {
     "name": "stdout",
     "output_type": "stream",
     "text": [
      "Epoch: 1 Validation accuracy: 0.81\n",
      "Epoch: 2 Validation accuracy: 0.89\n"
     ]
    },
    {
     "name": "stderr",
     "output_type": "stream",
     "text": [
      "Engine run is terminating due to exception: Trial was pruned at 3 epoch..\n",
      "Engine run is terminating due to exception: Trial was pruned at 3 epoch..\n",
      "[I 2020-07-15 14:14:36,164] Setting status of trial#93 as TrialState.PRUNED. Trial was pruned at 3 epoch.\n",
      "Engine run is terminating due to exception: Trial was pruned at 1 epoch..\n",
      "Engine run is terminating due to exception: Trial was pruned at 1 epoch..\n",
      "[I 2020-07-15 14:14:36,717] Setting status of trial#94 as TrialState.PRUNED. Trial was pruned at 1 epoch.\n",
      "Engine run is terminating due to exception: Trial was pruned at 1 epoch..\n",
      "Engine run is terminating due to exception: Trial was pruned at 1 epoch..\n",
      "[I 2020-07-15 14:14:37,268] Setting status of trial#95 as TrialState.PRUNED. Trial was pruned at 1 epoch.\n",
      "Engine run is terminating due to exception: Trial was pruned at 1 epoch..\n",
      "Engine run is terminating due to exception: Trial was pruned at 1 epoch..\n",
      "[I 2020-07-15 14:14:37,875] Setting status of trial#96 as TrialState.PRUNED. Trial was pruned at 1 epoch.\n"
     ]
    },
    {
     "name": "stdout",
     "output_type": "stream",
     "text": [
      "Epoch: 1 Validation accuracy: 0.81\n",
      "Epoch: 2 Validation accuracy: 0.88\n",
      "Epoch: 3 Validation accuracy: 0.92\n",
      "Epoch: 4 Validation accuracy: 0.93\n"
     ]
    },
    {
     "name": "stderr",
     "output_type": "stream",
     "text": [
      "Engine run is terminating due to exception: Trial was pruned at 5 epoch..\n",
      "Engine run is terminating due to exception: Trial was pruned at 5 epoch..\n",
      "[I 2020-07-15 14:14:40,434] Setting status of trial#97 as TrialState.PRUNED. Trial was pruned at 5 epoch.\n",
      "Engine run is terminating due to exception: Trial was pruned at 1 epoch..\n",
      "Engine run is terminating due to exception: Trial was pruned at 1 epoch..\n",
      "[I 2020-07-15 14:14:40,986] Setting status of trial#98 as TrialState.PRUNED. Trial was pruned at 1 epoch.\n",
      "Engine run is terminating due to exception: Trial was pruned at 1 epoch..\n",
      "Engine run is terminating due to exception: Trial was pruned at 1 epoch..\n",
      "[I 2020-07-15 14:14:41,540] Setting status of trial#99 as TrialState.PRUNED. Trial was pruned at 1 epoch.\n"
     ]
    },
    {
     "name": "stdout",
     "output_type": "stream",
     "text": [
      "Number of finished trials:  100\n",
      "Best trial:\n",
      "  Value:  0.963\n",
      "  Params: \n",
      "    dropout_rate: 0.07877890508969125\n",
      "    fc2_input_dim: 77\n"
     ]
    }
   ],
   "source": [
    "\"\"\"\n",
    "Optuna example that optimizes convolutional neural networks using PyTorch Ignite.\n",
    "In this example, we optimize the validation accuracy of hand-written digit recognition using\n",
    "PyTorch Ignite and MNIST. We optimize the neural network architecture as well as the\n",
    "regularization. As it is too time consuming to use the whole MNIST dataset, we here use a small\n",
    "subset of it.\n",
    "We have the following two ways to execute this example:\n",
    "(1) Execute this code directly. Pruning can be turned on and off with the `--pruning` argument.\n",
    "    $ python pytorch_ignite_simple.py [--pruning]\n",
    "(2) Execute through CLI. Pruning is enabled automatically.\n",
    "    $ STUDY_NAME=`optuna create-study --direction maximize --storage sqlite:///example.db`\n",
    "    $ optuna study optimize pytorch_ignite_simple.py objective --n-trials=100 \\\n",
    "      --study-name $STUDY_NAME --storage sqlite:///example.db\n",
    "\"\"\"\n",
    "\n",
    "import argparse\n",
    "\n",
    "from ignite.engine import create_supervised_evaluator\n",
    "from ignite.engine import create_supervised_trainer\n",
    "from ignite.engine import Events\n",
    "from ignite.metrics import Accuracy\n",
    "import torch\n",
    "from torch import nn\n",
    "import torch.nn.functional as F\n",
    "from torch.optim import Adam\n",
    "from torch.utils.data import DataLoader\n",
    "from torch.utils.data import Subset\n",
    "from torchvision.datasets.mnist import MNIST\n",
    "from torchvision.transforms import Compose\n",
    "from torchvision.transforms import Normalize\n",
    "from torchvision.transforms import ToTensor\n",
    "\n",
    "import optuna\n",
    "\n",
    "EPOCHS = 10\n",
    "TRAIN_BATCH_SIZE = 64\n",
    "VAL_BATCH_SIZE = 1000\n",
    "N_TRAIN_EXAMPLES = 3000\n",
    "N_VALID_EXAMPLES = 1000\n",
    "\n",
    "\n",
    "class Net(nn.Module):\n",
    "    def __init__(self, trial):\n",
    "        # We optimize dropout rate in a convolutional neural network.\n",
    "        super(Net, self).__init__()\n",
    "        self.conv1 = nn.Conv2d(1, 10, kernel_size=5)\n",
    "        self.conv2 = nn.Conv2d(10, 20, kernel_size=5)\n",
    "        dropout_rate = trial.suggest_float(\"dropout_rate\", 0, 1)\n",
    "        self.conv2_drop = nn.Dropout2d(p=dropout_rate)\n",
    "        fc2_input_dim = trial.suggest_int(\"fc2_input_dim\", 40, 80)\n",
    "        self.fc1 = nn.Linear(320, fc2_input_dim)\n",
    "        self.fc2 = nn.Linear(fc2_input_dim, 10)\n",
    "\n",
    "    def forward(self, x):\n",
    "        x = F.relu(F.max_pool2d(self.conv1(x), 2))\n",
    "        x = F.relu(F.max_pool2d(self.conv2_drop(self.conv2(x)), 2))\n",
    "        x = x.view(-1, 320)\n",
    "        x = F.relu(self.fc1(x))\n",
    "        x = F.dropout(x, training=self.training)\n",
    "        x = self.fc2(x)\n",
    "        return F.log_softmax(x, dim=-1)\n",
    "\n",
    "\n",
    "def get_data_loaders(train_batch_size, val_batch_size):\n",
    "    data_transform = Compose([ToTensor(), Normalize((0.1307,), (0.3081,))])\n",
    "\n",
    "    train_data = MNIST(download=True, root=\".\", transform=data_transform, train=True)\n",
    "    val_data = MNIST(download=False, root=\".\", transform=data_transform, train=False)\n",
    "\n",
    "    train_loader = DataLoader(\n",
    "        Subset(train_data, range(N_TRAIN_EXAMPLES)), batch_size=train_batch_size, shuffle=True\n",
    "    )\n",
    "    val_loader = DataLoader(\n",
    "        Subset(val_data, range(N_VALID_EXAMPLES)), batch_size=val_batch_size, shuffle=False\n",
    "    )\n",
    "\n",
    "    return train_loader, val_loader\n",
    "\n",
    "\n",
    "def objective(trial):\n",
    "    # Create a convolutional neural network.\n",
    "    model = Net(trial)\n",
    "\n",
    "    device = \"cpu\"\n",
    "    if torch.cuda.is_available():\n",
    "        device = \"cuda\"\n",
    "        model.cuda(device)\n",
    "\n",
    "    optimizer = Adam(model.parameters())\n",
    "    trainer = create_supervised_trainer(model, optimizer, F.nll_loss, device=device)\n",
    "    evaluator = create_supervised_evaluator(model, metrics={\"accuracy\": Accuracy()}, device=device)\n",
    "\n",
    "    # Register a pruning handler to the evaluator.\n",
    "    pruning_handler = optuna.integration.PyTorchIgnitePruningHandler(trial, \"accuracy\", trainer)\n",
    "    evaluator.add_event_handler(Events.COMPLETED, pruning_handler)\n",
    "\n",
    "    # Load MNIST dataset.\n",
    "    train_loader, val_loader = get_data_loaders(TRAIN_BATCH_SIZE, VAL_BATCH_SIZE)\n",
    "\n",
    "    @trainer.on(Events.EPOCH_COMPLETED)\n",
    "    def log_results(engine):\n",
    "        evaluator.run(val_loader)\n",
    "        validation_acc = evaluator.state.metrics[\"accuracy\"]\n",
    "        print(\"Epoch: {} Validation accuracy: {:.2f}\".format(engine.state.epoch, validation_acc))\n",
    "\n",
    "    trainer.run(train_loader, max_epochs=EPOCHS)\n",
    "\n",
    "    evaluator.run(val_loader)\n",
    "    return evaluator.state.metrics[\"accuracy\"]\n",
    "\n",
    "\n",
    "if __name__ == \"__main__\":\n",
    "\n",
    "    pruner = optuna.pruners.MedianPruner()\n",
    "\n",
    "    study = optuna.create_study(direction=\"maximize\", pruner=pruner)\n",
    "    study.optimize(objective, n_trials=100, timeout=600)\n",
    "\n",
    "    print(\"Number of finished trials: \", len(study.trials))\n",
    "\n",
    "    print(\"Best trial:\")\n",
    "    trial = study.best_trial\n",
    "\n",
    "    print(\"  Value: \", trial.value)\n",
    "\n",
    "    print(\"  Params: \")\n",
    "    for key, value in trial.params.items():\n",
    "        print(\"    {}: {}\".format(key, value))"
   ]
  },
  {
   "cell_type": "code",
   "execution_count": null,
   "metadata": {},
   "outputs": [],
   "source": []
  }
 ],
 "metadata": {
  "kernelspec": {
   "display_name": "Python 3",
   "language": "python",
   "name": "python3"
  },
  "language_info": {
   "codemirror_mode": {
    "name": "ipython",
    "version": 3
   },
   "file_extension": ".py",
   "mimetype": "text/x-python",
   "name": "python",
   "nbconvert_exporter": "python",
   "pygments_lexer": "ipython3",
   "version": "3.7.7"
  }
 },
 "nbformat": 4,
 "nbformat_minor": 4
}
